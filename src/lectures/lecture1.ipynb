{
 "cells": [
  {
   "cell_type": "markdown",
   "metadata": {},
   "source": [
    "# Rasa Algorithm\n",
    "\n",
    "## 1. Transformers & Attention\n",
    "\n",
    "What about opposite vectors with a negative dot product? (Normalize)"
   ]
  },
  {
   "cell_type": "markdown",
   "metadata": {},
   "source": [
    "## 2. Keys, Values, Queries\n",
    "\n",
    "Matrix size (k) defined by input vector size $k$.\n",
    "\n",
    "Why no bias?"
   ]
  }
 ],
 "metadata": {
  "kernelspec": {
   "display_name": "Python 3.10.8 ('.venv': poetry)",
   "language": "python",
   "name": "python3"
  },
  "language_info": {
   "name": "python",
   "version": "3.10.8"
  },
  "vscode": {
   "interpreter": {
    "hash": "263a728dd34e9ebcb54f85026436edea16a1f8f3ee11b370480b198503dd32a0"
   }
  }
 },
 "nbformat": 4,
 "nbformat_minor": 2
}
